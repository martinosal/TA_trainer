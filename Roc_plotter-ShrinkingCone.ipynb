{
 "cells": [
  {
   "cell_type": "code",
   "execution_count": 1,
   "metadata": {},
   "outputs": [
    {
     "name": "stderr",
     "output_type": "stream",
     "text": [
      "WARNING:root:Limited tf.compat.v2.summary API due to missing TensorBoard installation.\n",
      "WARNING:root:Limited tf.compat.v2.summary API due to missing TensorBoard installation.\n",
      "WARNING:root:Limited tf.compat.v2.summary API due to missing TensorBoard installation.\n",
      "WARNING:root:Limited tf.summary API due to missing TensorBoard installation.\n"
     ]
    }
   ],
   "source": [
    "import ROC as roc_maker\n",
    "\n",
    "import data_preprocess_functions as dp_f\n",
    "\n",
    "import numpy as np\n",
    "import pandas as pd\n",
    "import matplotlib.pyplot as plt\n",
    "from matplotlib import gridspec\n",
    "\n",
    "from sklearn.preprocessing import RobustScaler\n",
    "from sklearn.preprocessing import StandardScaler\n",
    "from sklearn.model_selection import train_test_split\n",
    "from sklearn.utils import shuffle\n",
    "\n",
    "from tensorflow.keras.utils import to_categorical\n",
    "from tensorflow.keras import models\n",
    "from tensorflow.keras import layers\n",
    "from tensorflow.keras.models import Sequential"
   ]
  },
  {
   "cell_type": "code",
   "execution_count": 2,
   "metadata": {},
   "outputs": [],
   "source": [
    "def integral(y,x,bins):\n",
    "    x_min=x\n",
    "    s=0\n",
    "    for i in np.where(bins>x)[0][:-1]:\n",
    "#        s=s+y[i]*(bins[i+1]-bins[i])\n",
    "#        print(i,s)\n",
    "        s=s+y[i]*(bins[i+1]-bins[i])\n",
    "    return s"
   ]
  },
  {
   "cell_type": "code",
   "execution_count": 14,
   "metadata": {},
   "outputs": [],
   "source": [
    "class ROC:\n",
    "    def __init__(self,MVA_model,X_test_scaled,y_test,MVA_model_name):\n",
    "#        noise_score_1=MVA_model.predict(X_test_scaled[np.where(y_test==1)])[:,0]\n",
    "#        noise_score_0=MVA_model.predict(X_test_scaled[np.where(y_test==0)])[:,0]\n",
    "        signal_score_1=MVA_model.predict(X_test_scaled[np.where(y_test==1)])[:,1]\n",
    "        signal_score_0=MVA_model.predict(X_test_scaled[np.where(y_test==0)])[:,1]\n",
    "        \n",
    "        Nbins=1000\n",
    "        y_signal,bins_1,_=plt.hist(signal_score_1, bins=Nbins, alpha=0.8, label='Signal')#, density=True\n",
    "        y_bkg,bins_0,_=plt.hist(signal_score_0, bins=Nbins, alpha=0.8, label='Background')#, density=True\n",
    "        plt.yscale('log')\n",
    "        plt.legend()\n",
    "        plt.xlabel('MVA score')\n",
    "        plt.savefig(MVA_model_name+'_score.pdf')\n",
    "        plt.show()\n",
    "\n",
    "        Nsignal=integral(y_signal,0,bins_1)\n",
    "        Nbkg=integral(y_bkg,0,bins_0)\n",
    "        signal_eff=np.array([])\n",
    "        bkg_eff=np.array([])\n",
    "        y_s=0\n",
    "        y_n=0\n",
    "        for i in range(0,Nbins+1):\n",
    "            x=i/Nbins\n",
    "            y_s=integral(y_signal,x,bins_1)/Nsignal\n",
    "            y_n=integral(y_bkg,x,bins_0)/Nbkg\n",
    "            signal_eff=np.append(y_s,signal_eff)\n",
    "            bkg_eff=np.append(y_n,bkg_eff)\n",
    "\n",
    "        #Area=round(1000*integral(signal_eff,0)/Nbins)/1000\n",
    "        Area=round(1000*abs(integral(signal_eff,0,bkg_eff)))/1000\n",
    "        \n",
    "        lab='Area: '+str(Area)\n",
    "        plt.plot(bkg_eff,signal_eff,label=lab)\n",
    "        plt.plot([0,1],[0,1])\n",
    "        plt.xlabel('False Positive Rate')\n",
    "        plt.ylabel('True Positive Rate')\n",
    "        #plt.xlim([0.001,1])\n",
    "        #plt.yscale('log')\n",
    "        plt.title('ROC curve')\n",
    "        plt.legend()\n",
    "        plt.savefig('ROC_'+MVA_model_name+'.pdf')\n",
    "        plt.show()\n",
    "\n",
    "        WP=[0.90,0.94,0.97,0.99]\n",
    "        rej=1./bkg_eff\n",
    "        WP_idx=[np.where(np.abs(signal_eff-WP[i])==np.min(np.abs(signal_eff-WP[i])))[0][0] for i in range(0,len(WP))]\n",
    "        #rej[WP_idx]\n",
    "        WP_rej=[str(round(10*rej[WP_idx[i]])/10) for i in range(0,len(WP))]\n",
    "        print(WP_rej)\n",
    "\n",
    "        plt.plot(signal_eff,rej)\n",
    "        for i in range(0,len(WP)):\n",
    "            plt.axvline(x=WP[i],color='Red',linestyle='dashed',label='Bkg Rejection @ '+str(WP[i])+' WP: '+WP_rej[i])\n",
    "        plt.xlabel('Signal efficiency')\n",
    "        plt.ylabel('Background rejection')\n",
    "        plt.xlim([0.75,1])\n",
    "        plt.yscale('log')\n",
    "        plt.title('ROC curve')\n",
    "        plt.legend()\n",
    "#        plt.savefig('rejection_ROC_'+MVA_model_name+'.pdf')\n",
    "        plt.show()\n",
    "        \n",
    "        self.auc=Area\n",
    "        self.signal_eff=signal_eff\n",
    "        self.bkg_eff=bkg_eff\n",
    "        self.bkg_rej=rej\n",
    "        self.WP=WP\n",
    "        self.WP_rej=WP_rej"
   ]
  },
  {
   "cell_type": "code",
   "execution_count": 4,
   "metadata": {},
   "outputs": [],
   "source": [
    "mode='VariableCone_m/'\n",
    "path='../PKL/Zprime'+mode"
   ]
  },
  {
   "cell_type": "code",
   "execution_count": 5,
   "metadata": {},
   "outputs": [
    {
     "data": {
      "text/plain": [
       "([PhysicalDevice(name='/physical_device:GPU:0', device_type='GPU')],\n",
       " [PhysicalDevice(name='/physical_device:CPU:0', device_type='CPU')])"
      ]
     },
     "execution_count": 5,
     "metadata": {},
     "output_type": "execute_result"
    }
   ],
   "source": [
    "import tensorflow as tf\n",
    "tf.config.list_physical_devices('GPU'),tf.config.list_physical_devices('CPU')"
   ]
  },
  {
   "cell_type": "code",
   "execution_count": 6,
   "metadata": {},
   "outputs": [],
   "source": [
    "path='../PKL/Zprime'+mode+'wrongscalingJet/'"
   ]
  },
  {
   "cell_type": "code",
   "execution_count": 7,
   "metadata": {},
   "outputs": [],
   "source": [
    "NN_model_name='NN_base'\n",
    "#PCANN_model_name='PCANN_base'"
   ]
  },
  {
   "cell_type": "code",
   "execution_count": 8,
   "metadata": {},
   "outputs": [],
   "source": [
    "NN=tf.keras.models.load_model(path+'models/'+NN_model_name)\n",
    "#PCANN=tf.keras.models.load_model(path+'models/'+PCANN_model_name)"
   ]
  },
  {
   "cell_type": "code",
   "execution_count": 9,
   "metadata": {},
   "outputs": [],
   "source": [
    "columns_list=columns_list=np.array(['log_pt', 'eta', 'theta', 'phi', 'log_dr', 'log_ptfrac'])\n",
    "#X_train, X_train_scaled, X_test, X_test_scaled, y_train, y_train_cat, y_test, y_test_cat=dp_f.retrieve_dataset(path_NN)\n",
    "X_train_scaled=np.genfromtxt(path+\"X_train.csv\",delimiter=',')\n",
    "X_test_scaled=np.genfromtxt(path+\"X_test.csv\",delimiter=',')\n",
    "y_train=np.genfromtxt(path+\"y_train.csv\",delimiter=',')\n",
    "y_train_cat=np.genfromtxt(path+\"y_train_cat.csv\",delimiter=',')\n",
    "y_test=np.genfromtxt(path+\"y_test.csv\",delimiter=',')\n",
    "y_test_cat=np.genfromtxt(path+\"y_test_cat.csv\",delimiter=',')"
   ]
  },
  {
   "cell_type": "code",
   "execution_count": 11,
   "metadata": {},
   "outputs": [
    {
     "name": "stdout",
     "output_type": "stream",
     "text": [
      "413/413 [==============================] - 1s 3ms/step - loss: 0.3316 - accuracy: 0.8434\n"
     ]
    },
    {
     "data": {
      "text/plain": [
       "[0.33163779973983765, 0.8433999419212341]"
      ]
     },
     "execution_count": 11,
     "metadata": {},
     "output_type": "execute_result"
    }
   ],
   "source": [
    "NN.evaluate(X_test_scaled,y_test_cat)"
   ]
  },
  {
   "cell_type": "code",
   "execution_count": 15,
   "metadata": {},
   "outputs": [
    {
     "data": {
      "image/png": "[encoded data removed]",
      "text/plain": [
       "<Figure size 432x288 with 1 Axes>"
      ]
     },
     "metadata": {
      "needs_background": "light"
     },
     "output_type": "display_data"
    },
    {
     "data": {
      "image/png": "[encoded data removed]",
      "text/plain": [
       "<Figure size 432x288 with 1 Axes>"
      ]
     },
     "metadata": {
      "needs_background": "light"
     },
     "output_type": "display_data"
    },
    {
     "name": "stderr",
     "output_type": "stream",
     "text": [
      "<ipython-input-14-c632b0344331>:46: RuntimeWarning: divide by zero encountered in true_divide\n",
      "  rej=1./bkg_eff\n"
     ]
    },
    {
     "name": "stdout",
     "output_type": "stream",
     "text": [
      "['3.7', '2.8', '2.2', '1.9']\n"
     ]
    },
    {
     "data": {
      "image/png": "[encoded data removed]",
      "text/plain": [
       "<Figure size 432x288 with 1 Axes>"
      ]
     },
     "metadata": {
      "needs_background": "light"
     },
     "output_type": "display_data"
    }
   ],
   "source": [
    "NN_base=ROC(NN,X_train_scaled,y_train,NN_model_name)"
   ]
  },
  {
   "cell_type": "code",
   "execution_count": null,
   "metadata": {},
   "outputs": [],
   "source": []
  }
 ],
 "metadata": {
  "kernelspec": {
   "display_name": "Python 3",
   "language": "python",
   "name": "python3"
  },
  "language_info": {
   "codemirror_mode": {
    "name": "ipython",
    "version": 3
   },
   "file_extension": ".py",
   "mimetype": "text/x-python",
   "name": "python",
   "nbconvert_exporter": "python",
   "pygments_lexer": "ipython3",
   "version": "3.7.3"
  }
 },
 "nbformat": 4,
 "nbformat_minor": 5
}
