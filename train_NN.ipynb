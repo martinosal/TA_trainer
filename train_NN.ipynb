{
 "cells": [
  {
   "cell_type": "code",
   "execution_count": 1,
   "metadata": {},
   "outputs": [],
   "source": [
    "import tensorflow as tf\n",
    "#tf.config.list_physical_devices('GPU'),tf.config.list_physical_devices('CPU')"
   ]
  },
  {
   "cell_type": "code",
   "execution_count": 2,
   "metadata": {},
   "outputs": [],
   "source": [
    "#from numba import cuda \n",
    "#device = cuda.get_current_device()\n",
    "#device.reset()"
   ]
  },
  {
   "cell_type": "code",
   "execution_count": 3,
   "metadata": {},
   "outputs": [],
   "source": [
    "import data_preprocess_functions as dp_f\n",
    "\n",
    "import numpy as np\n",
    "import pandas as pd\n",
    "import matplotlib.pyplot as plt\n",
    "\n",
    "from sklearn.preprocessing import RobustScaler\n",
    "from sklearn.preprocessing import StandardScaler\n",
    "from sklearn.model_selection import train_test_split\n",
    "from sklearn.utils import shuffle\n",
    "\n",
    "from tensorflow.keras.utils import to_categorical\n",
    "from tensorflow.keras import models\n",
    "from tensorflow.keras import layers\n",
    "from tensorflow.keras.models import Sequential"
   ]
  },
  {
   "cell_type": "code",
   "execution_count": 4,
   "metadata": {},
   "outputs": [],
   "source": [
    "def integral(y,x,bins):\n",
    "    x_min=x\n",
    "    s=0\n",
    "    for i in np.where(bins>x)[0][:-1]:\n",
    "#        s=s+y[i]*(bins[i+1]-bins[i])\n",
    "#        print(i,s)\n",
    "        s=s+y[i]*(bins[i+1]-bins[i])\n",
    "    return s\n",
    "\n",
    "class ROC:\n",
    "    def __init__(self,MVA_model,X_test_scaled,y_test,MVA_model_name):\n",
    "#        noise_score_1=MVA_model.predict(X_test_scaled[np.where(y_test==1)])[:,0]\n",
    "#        noise_score_0=MVA_model.predict(X_test_scaled[np.where(y_test==0)])[:,0]\n",
    "        signal_score_1=MVA_model.predict(X_test_scaled[np.where(y_test==1)])[:,1]\n",
    "        signal_score_0=MVA_model.predict(X_test_scaled[np.where(y_test==0)])[:,1]\n",
    "        \n",
    "        Nbins=1000\n",
    "        y_signal,bins_1,_=plt.hist(signal_score_1, bins=Nbins, alpha=0.8, label='Signal')#, density=True\n",
    "        y_bkg,bins_0,_=plt.hist(signal_score_0, bins=Nbins, alpha=0.8, label='Background')#, density=True\n",
    "        plt.yscale('log')\n",
    "        plt.legend()\n",
    "        plt.xlabel('MVA score')\n",
    "        plt.savefig(MVA_model_name+'_score.pdf')\n",
    "        plt.show()\n",
    "\n",
    "        Nsignal=integral(y_signal,0,bins_1)\n",
    "        Nbkg=integral(y_bkg,0,bins_0)\n",
    "        signal_eff=np.array([])\n",
    "        bkg_eff=np.array([])\n",
    "        y_s=0\n",
    "        y_n=0\n",
    "        for i in range(0,Nbins+1):\n",
    "            x=i/Nbins\n",
    "            y_s=integral(y_signal,x,bins_1)/Nsignal\n",
    "            y_n=integral(y_bkg,x,bins_0)/Nbkg\n",
    "            signal_eff=np.append(y_s,signal_eff)\n",
    "            bkg_eff=np.append(y_n,bkg_eff)\n",
    "\n",
    "        #Area=round(1000*integral(signal_eff,0)/Nbins)/1000\n",
    "        Area=round(1000*abs(integral(signal_eff,0,bkg_eff)))/1000\n",
    "        \n",
    "        lab='Area: '+str(Area)\n",
    "        plt.plot(bkg_eff,signal_eff,label=lab)\n",
    "        plt.plot([0,1],[0,1])\n",
    "        plt.xlabel('False Positive Rate')\n",
    "        plt.ylabel('True Positive Rate')\n",
    "        #plt.xlim([0.001,1])\n",
    "        #plt.yscale('log')\n",
    "        plt.title('ROC curve')\n",
    "        plt.legend()\n",
    "#        plt.savefig('ROC_'+MVA_model_name+'.pdf')\n",
    "        plt.show()\n",
    "\n",
    "        WP=[0.90,0.94,0.97,0.99]\n",
    "        rej=1./bkg_eff\n",
    "        WP_idx=[np.where(np.abs(signal_eff-WP[i])==np.min(np.abs(signal_eff-WP[i])))[0][0] for i in range(0,len(WP))]\n",
    "        #rej[WP_idx]\n",
    "        WP_rej=[str(round(10*rej[WP_idx[i]])/10) for i in range(0,len(WP))]\n",
    "        print(WP_rej)\n",
    "\n",
    "        plt.plot(signal_eff,rej)\n",
    "        for i in range(0,len(WP)):\n",
    "            plt.axvline(x=WP[i],color='Red',linestyle='dashed',label='Bkg Rejection @ '+str(WP[i])+' WP: '+WP_rej[i])\n",
    "        plt.xlabel('Signal efficiency')\n",
    "        plt.ylabel('Background rejection')\n",
    "        plt.xlim([0.8,1])\n",
    "        plt.yscale('log')\n",
    "        plt.title('ROC curve')\n",
    "        plt.legend()\n",
    "#        plt.savefig('rejection_ROC_'+MVA_model_name+'.pdf')\n",
    "        plt.show()\n",
    "        \n",
    "        self.auc=Area\n",
    "        self.signal_eff=signal_eff\n",
    "        self.bkg_eff=bkg_eff\n",
    "        self.bkg_rej=rej\n",
    "        self.WP=WP\n",
    "        self.WP_rej=WP_rej"
   ]
  },
  {
   "cell_type": "code",
   "execution_count": 5,
   "metadata": {},
   "outputs": [],
   "source": [
    "#columns_list=np.array(['log_pt', 'eta', 'Deta', 'phi', 'Dphi', 'log_dr', 'log_ptfrac','log_p3fracJetE'])\n",
    "\n",
    "columns_list=np.array(['log_pt', 'eta', 'theta', 'phi', 'log_dr', 'log_ptfrac'])"
   ]
  },
  {
   "cell_type": "code",
   "execution_count": 6,
   "metadata": {},
   "outputs": [],
   "source": [
    "Dir='/nfs/kloe/einstein4/martino/'\n",
    "mode='VariableCone'\n",
    "path=Dir+'PKL/Zprime'+mode+'/singleBJetnocut/'#'/'\n"
   ]
  },
  {
   "cell_type": "code",
   "execution_count": 15,
   "metadata": {
    "collapsed": true
   },
   "outputs": [
    {
     "ename": "OSError",
     "evalue": "/nfs/kloe/einstein4/martino/PKL/ZprimeVariableCone/wrongscalingJet/X_train_scaled.csv not found.",
     "output_type": "error",
     "traceback": [
      "\u001b[0;31m---------------------------------------------------------------------------\u001b[0m",
      "\u001b[0;31mOSError\u001b[0m                                   Traceback (most recent call last)",
      "\u001b[0;32m<ipython-input-15-8d5c96aa34df>\u001b[0m in \u001b[0;36m<module>\u001b[0;34m\u001b[0m\n\u001b[0;32m----> 1\u001b[0;31m \u001b[0mX_train\u001b[0m\u001b[0;34m,\u001b[0m \u001b[0mX_train_scaled\u001b[0m\u001b[0;34m,\u001b[0m \u001b[0mX_test\u001b[0m\u001b[0;34m,\u001b[0m \u001b[0mX_test_scaled\u001b[0m\u001b[0;34m,\u001b[0m \u001b[0my_train\u001b[0m\u001b[0;34m,\u001b[0m \u001b[0my_train_cat\u001b[0m\u001b[0;34m,\u001b[0m \u001b[0my_test\u001b[0m\u001b[0;34m,\u001b[0m \u001b[0my_test_cat\u001b[0m\u001b[0;34m=\u001b[0m\u001b[0mdp_f\u001b[0m\u001b[0;34m.\u001b[0m\u001b[0mretrieve_dataset\u001b[0m\u001b[0;34m(\u001b[0m\u001b[0mpath\u001b[0m\u001b[0;34m)\u001b[0m\u001b[0;34m\u001b[0m\u001b[0;34m\u001b[0m\u001b[0m\n\u001b[0m",
      "\u001b[0;32m~/private/TrackAssociator/TA_trainer/data_preprocess_functions.py\u001b[0m in \u001b[0;36mretrieve_dataset\u001b[0;34m(path)\u001b[0m\n\u001b[1;32m    145\u001b[0m \u001b[0;32mdef\u001b[0m \u001b[0mretrieve_dataset\u001b[0m\u001b[0;34m(\u001b[0m\u001b[0mpath\u001b[0m\u001b[0;34m)\u001b[0m\u001b[0;34m:\u001b[0m\u001b[0;34m\u001b[0m\u001b[0;34m\u001b[0m\u001b[0m\n\u001b[1;32m    146\u001b[0m     \u001b[0mX_train\u001b[0m\u001b[0;34m=\u001b[0m\u001b[0mgenfromtxt\u001b[0m\u001b[0;34m(\u001b[0m\u001b[0mpath\u001b[0m\u001b[0;34m+\u001b[0m\u001b[0;34m\"X_train.csv\"\u001b[0m\u001b[0;34m,\u001b[0m\u001b[0mdelimiter\u001b[0m\u001b[0;34m=\u001b[0m\u001b[0;34m','\u001b[0m\u001b[0;34m)\u001b[0m\u001b[0;34m\u001b[0m\u001b[0;34m\u001b[0m\u001b[0m\n\u001b[0;32m--> 147\u001b[0;31m     \u001b[0mX_train_scaled\u001b[0m\u001b[0;34m=\u001b[0m\u001b[0mgenfromtxt\u001b[0m\u001b[0;34m(\u001b[0m\u001b[0mpath\u001b[0m\u001b[0;34m+\u001b[0m\u001b[0;34m\"X_train_scaled.csv\"\u001b[0m\u001b[0;34m,\u001b[0m\u001b[0mdelimiter\u001b[0m\u001b[0;34m=\u001b[0m\u001b[0;34m','\u001b[0m\u001b[0;34m)\u001b[0m\u001b[0;34m\u001b[0m\u001b[0;34m\u001b[0m\u001b[0m\n\u001b[0m\u001b[1;32m    148\u001b[0m     \u001b[0mX_test\u001b[0m\u001b[0;34m=\u001b[0m\u001b[0mgenfromtxt\u001b[0m\u001b[0;34m(\u001b[0m\u001b[0mpath\u001b[0m\u001b[0;34m+\u001b[0m\u001b[0;34m\"X_test.csv\"\u001b[0m\u001b[0;34m,\u001b[0m\u001b[0mdelimiter\u001b[0m\u001b[0;34m=\u001b[0m\u001b[0;34m','\u001b[0m\u001b[0;34m)\u001b[0m\u001b[0;34m\u001b[0m\u001b[0;34m\u001b[0m\u001b[0m\n\u001b[1;32m    149\u001b[0m     \u001b[0mX_test_scaled\u001b[0m\u001b[0;34m=\u001b[0m\u001b[0mgenfromtxt\u001b[0m\u001b[0;34m(\u001b[0m\u001b[0mpath\u001b[0m\u001b[0;34m+\u001b[0m\u001b[0;34m\"X_test_scaled.csv\"\u001b[0m\u001b[0;34m,\u001b[0m\u001b[0mdelimiter\u001b[0m\u001b[0;34m=\u001b[0m\u001b[0;34m','\u001b[0m\u001b[0;34m)\u001b[0m\u001b[0;34m\u001b[0m\u001b[0;34m\u001b[0m\u001b[0m\n",
      "\u001b[0;32m~/miniconda3/envs/ML/lib/python3.7/site-packages/numpy/lib/npyio.py\u001b[0m in \u001b[0;36mgenfromtxt\u001b[0;34m(fname, dtype, comments, delimiter, skip_header, skip_footer, converters, missing_values, filling_values, usecols, names, excludelist, deletechars, replace_space, autostrip, case_sensitive, defaultfmt, unpack, usemask, loose, invalid_raise, max_rows, encoding)\u001b[0m\n\u001b[1;32m   1757\u001b[0m             \u001b[0mfname\u001b[0m \u001b[0;34m=\u001b[0m \u001b[0mos_fspath\u001b[0m\u001b[0;34m(\u001b[0m\u001b[0mfname\u001b[0m\u001b[0;34m)\u001b[0m\u001b[0;34m\u001b[0m\u001b[0;34m\u001b[0m\u001b[0m\n\u001b[1;32m   1758\u001b[0m         \u001b[0;32mif\u001b[0m \u001b[0misinstance\u001b[0m\u001b[0;34m(\u001b[0m\u001b[0mfname\u001b[0m\u001b[0;34m,\u001b[0m \u001b[0mbasestring\u001b[0m\u001b[0;34m)\u001b[0m\u001b[0;34m:\u001b[0m\u001b[0;34m\u001b[0m\u001b[0;34m\u001b[0m\u001b[0m\n\u001b[0;32m-> 1759\u001b[0;31m             \u001b[0mfid\u001b[0m \u001b[0;34m=\u001b[0m \u001b[0mnp\u001b[0m\u001b[0;34m.\u001b[0m\u001b[0mlib\u001b[0m\u001b[0;34m.\u001b[0m\u001b[0m_datasource\u001b[0m\u001b[0;34m.\u001b[0m\u001b[0mopen\u001b[0m\u001b[0;34m(\u001b[0m\u001b[0mfname\u001b[0m\u001b[0;34m,\u001b[0m \u001b[0;34m'rt'\u001b[0m\u001b[0;34m,\u001b[0m \u001b[0mencoding\u001b[0m\u001b[0;34m=\u001b[0m\u001b[0mencoding\u001b[0m\u001b[0;34m)\u001b[0m\u001b[0;34m\u001b[0m\u001b[0;34m\u001b[0m\u001b[0m\n\u001b[0m\u001b[1;32m   1760\u001b[0m             \u001b[0mfid_ctx\u001b[0m \u001b[0;34m=\u001b[0m \u001b[0mcontextlib\u001b[0m\u001b[0;34m.\u001b[0m\u001b[0mclosing\u001b[0m\u001b[0;34m(\u001b[0m\u001b[0mfid\u001b[0m\u001b[0;34m)\u001b[0m\u001b[0;34m\u001b[0m\u001b[0;34m\u001b[0m\u001b[0m\n\u001b[1;32m   1761\u001b[0m         \u001b[0;32melse\u001b[0m\u001b[0;34m:\u001b[0m\u001b[0;34m\u001b[0m\u001b[0;34m\u001b[0m\u001b[0m\n",
      "\u001b[0;32m~/miniconda3/envs/ML/lib/python3.7/site-packages/numpy/lib/_datasource.py\u001b[0m in \u001b[0;36mopen\u001b[0;34m(path, mode, destpath, encoding, newline)\u001b[0m\n\u001b[1;32m    267\u001b[0m \u001b[0;34m\u001b[0m\u001b[0m\n\u001b[1;32m    268\u001b[0m     \u001b[0mds\u001b[0m \u001b[0;34m=\u001b[0m \u001b[0mDataSource\u001b[0m\u001b[0;34m(\u001b[0m\u001b[0mdestpath\u001b[0m\u001b[0;34m)\u001b[0m\u001b[0;34m\u001b[0m\u001b[0;34m\u001b[0m\u001b[0m\n\u001b[0;32m--> 269\u001b[0;31m     \u001b[0;32mreturn\u001b[0m \u001b[0mds\u001b[0m\u001b[0;34m.\u001b[0m\u001b[0mopen\u001b[0m\u001b[0;34m(\u001b[0m\u001b[0mpath\u001b[0m\u001b[0;34m,\u001b[0m \u001b[0mmode\u001b[0m\u001b[0;34m,\u001b[0m \u001b[0mencoding\u001b[0m\u001b[0;34m=\u001b[0m\u001b[0mencoding\u001b[0m\u001b[0;34m,\u001b[0m \u001b[0mnewline\u001b[0m\u001b[0;34m=\u001b[0m\u001b[0mnewline\u001b[0m\u001b[0;34m)\u001b[0m\u001b[0;34m\u001b[0m\u001b[0;34m\u001b[0m\u001b[0m\n\u001b[0m\u001b[1;32m    270\u001b[0m \u001b[0;34m\u001b[0m\u001b[0m\n\u001b[1;32m    271\u001b[0m \u001b[0;34m\u001b[0m\u001b[0m\n",
      "\u001b[0;32m~/miniconda3/envs/ML/lib/python3.7/site-packages/numpy/lib/_datasource.py\u001b[0m in \u001b[0;36mopen\u001b[0;34m(self, path, mode, encoding, newline)\u001b[0m\n\u001b[1;32m    621\u001b[0m                                       encoding=encoding, newline=newline)\n\u001b[1;32m    622\u001b[0m         \u001b[0;32melse\u001b[0m\u001b[0;34m:\u001b[0m\u001b[0;34m\u001b[0m\u001b[0;34m\u001b[0m\u001b[0m\n\u001b[0;32m--> 623\u001b[0;31m             \u001b[0;32mraise\u001b[0m \u001b[0mIOError\u001b[0m\u001b[0;34m(\u001b[0m\u001b[0;34m\"%s not found.\"\u001b[0m \u001b[0;34m%\u001b[0m \u001b[0mpath\u001b[0m\u001b[0;34m)\u001b[0m\u001b[0;34m\u001b[0m\u001b[0;34m\u001b[0m\u001b[0m\n\u001b[0m\u001b[1;32m    624\u001b[0m \u001b[0;34m\u001b[0m\u001b[0m\n\u001b[1;32m    625\u001b[0m \u001b[0;34m\u001b[0m\u001b[0m\n",
      "\u001b[0;31mOSError\u001b[0m: /nfs/kloe/einstein4/martino/PKL/ZprimeVariableCone/wrongscalingJet/X_train_scaled.csv not found."
     ]
    }
   ],
   "source": [
    "X_train, X_train_scaled, X_test, X_test_scaled, y_train, y_train_cat, y_test, y_test_cat=dp_f.retrieve_dataset(path)"
   ]
  },
  {
   "cell_type": "code",
   "execution_count": 17,
   "metadata": {},
   "outputs": [],
   "source": [
    "n_c=32\n",
    "opt = tf.keras.optimizers.Adam(learning_rate=0.0001)\n",
    "NN = models.Sequential()\n",
    "NN.add(layers.Dense(2*n_c, activation='relu'))\n",
    "#NN.add(layers.Dense(2*n_c, activation=tf.nn.sigmoid))\n",
    "NN.add(layers.Dense(2*n_c, activation=tf.nn.sigmoid))\n",
    "#NN.add(layers.Dense(n_c, activation='relu'))\n",
    "NN.add(layers.Dense(n_c, activation=tf.nn.sigmoid))\n",
    "NN.add(layers.Dense(2, activation='softmax', name='preds'))\n",
    "NN.compile( optimizer=opt,\n",
    "           loss='categorical_crossentropy',\n",
    "#                        loss='binary_crossentropy',\n",
    "                metrics = ['accuracy'])\n",
    "\n"
   ]
  },
  {
   "cell_type": "code",
   "execution_count": 19,
   "metadata": {},
   "outputs": [
    {
     "data": {
      "text/plain": [
       "{0.0: 2.472824252244953, 1.0: 0.6267218809356765}"
      ]
     },
     "execution_count": 19,
     "metadata": {},
     "output_type": "execute_result"
    }
   ],
   "source": [
    "#class_weights = class_weight.compute_class_weight('balanced',\n",
    "#                                                 np.unique(y_train),\n",
    "#                                                 y_train)\n",
    "\n",
    "from sklearn.utils import class_weight\n",
    "class_weights = dict(zip(np.unique(y_train), class_weight.compute_class_weight('balanced', np.unique(y_train), \n",
    "                y_train))) \n",
    "\n",
    "class_weights"
   ]
  },
  {
   "cell_type": "code",
   "execution_count": 20,
   "metadata": {},
   "outputs": [],
   "source": [
    "callback = tf.keras.callbacks.EarlyStopping(monitor='loss', patience=3)"
   ]
  },
  {
   "cell_type": "code",
   "execution_count": 21,
   "metadata": {},
   "outputs": [],
   "source": [
    "#NN_model_name='NN_base_rew'\n",
    "#NN=tf.keras.models.load_model(path+'models/'+NN_model_name)"
   ]
  },
  {
   "cell_type": "code",
   "execution_count": 1,
   "metadata": {
    "scrolled": false
   },
   "outputs": [
    {
     "ename": "NameError",
     "evalue": "name 'NN' is not defined",
     "output_type": "error",
     "traceback": [
      "\u001b[0;31m---------------------------------------------------------------------------\u001b[0m",
      "\u001b[0;31mNameError\u001b[0m                                 Traceback (most recent call last)",
      "\u001b[0;32m<ipython-input-1-788bc3480eca>\u001b[0m in \u001b[0;36m<module>\u001b[0;34m\u001b[0m\n\u001b[0;32m----> 1\u001b[0;31m \u001b[0mhistory\u001b[0m\u001b[0;34m=\u001b[0m\u001b[0mNN\u001b[0m\u001b[0;34m.\u001b[0m\u001b[0mfit\u001b[0m\u001b[0;34m(\u001b[0m\u001b[0mX_train_scaled\u001b[0m\u001b[0;34m,\u001b[0m \u001b[0my_train_cat\u001b[0m\u001b[0;34m,\u001b[0m \u001b[0mbatch_size\u001b[0m\u001b[0;34m=\u001b[0m\u001b[0;36m128\u001b[0m\u001b[0;34m,\u001b[0m \u001b[0mepochs\u001b[0m\u001b[0;34m=\u001b[0m\u001b[0;36m20\u001b[0m\u001b[0;34m,\u001b[0m \u001b[0mverbose\u001b[0m\u001b[0;34m=\u001b[0m\u001b[0;36m1\u001b[0m\u001b[0;34m)\u001b[0m\u001b[0;31m#validation_split=0.2,  callbacks=[callback], class_weight=class_weights,\u001b[0m\u001b[0;34m\u001b[0m\u001b[0;34m\u001b[0m\u001b[0m\n\u001b[0m\u001b[1;32m      2\u001b[0m \u001b[0;34m\u001b[0m\u001b[0m\n\u001b[1;32m      3\u001b[0m \u001b[0mfig\u001b[0m \u001b[0;34m=\u001b[0m \u001b[0mplt\u001b[0m\u001b[0;34m.\u001b[0m\u001b[0mfigure\u001b[0m\u001b[0;34m(\u001b[0m\u001b[0;34m)\u001b[0m\u001b[0;34m\u001b[0m\u001b[0;34m\u001b[0m\u001b[0m\n\u001b[1;32m      4\u001b[0m \u001b[0mplt\u001b[0m\u001b[0;34m.\u001b[0m\u001b[0msubplot\u001b[0m\u001b[0;34m(\u001b[0m\u001b[0;36m2\u001b[0m\u001b[0;34m,\u001b[0m\u001b[0;36m1\u001b[0m\u001b[0;34m,\u001b[0m\u001b[0;36m1\u001b[0m\u001b[0;34m)\u001b[0m\u001b[0;34m\u001b[0m\u001b[0;34m\u001b[0m\u001b[0m\n\u001b[1;32m      5\u001b[0m \u001b[0mplt\u001b[0m\u001b[0;34m.\u001b[0m\u001b[0mplot\u001b[0m\u001b[0;34m(\u001b[0m\u001b[0mhistory\u001b[0m\u001b[0;34m.\u001b[0m\u001b[0mhistory\u001b[0m\u001b[0;34m[\u001b[0m\u001b[0;34m'acc'\u001b[0m\u001b[0;34m]\u001b[0m\u001b[0;34m)\u001b[0m\u001b[0;34m\u001b[0m\u001b[0;34m\u001b[0m\u001b[0m\n",
      "\u001b[0;31mNameError\u001b[0m: name 'NN' is not defined"
     ]
    }
   ],
   "source": [
    "history=NN.fit(X_train_scaled, y_train_cat, batch_size=128, epochs=20, verbose=1)#validation_split=0.2,  callbacks=[callback], class_weight=class_weights,\n",
    "\n",
    "fig = plt.figure()\n",
    "plt.subplot(2,1,1)\n",
    "plt.plot(history.history['acc'])\n",
    "plt.title('model accuracy')\n",
    "plt.ylabel('accuracy')\n",
    "plt.xlabel('epoch')\n",
    "#plt.xscale('log')\n",
    "plt.subplot(2,1,2)\n",
    "plt.plot(history.history['loss'])\n",
    "plt.title('model loss')\n",
    "plt.ylabel('loss')\n",
    "plt.xlabel('epoch')\n",
    "#plt.xscale('log')\n",
    "\n",
    "plt.tight_layout()\n",
    "fig\n",
    "\n",
    "print('accuracy:', history.history['acc'][-1], 'loss:', history.history['loss'][-1])\n",
    "\n",
    "#print('Evaluation on training set')\n",
    "#NN.evaluate(X_train_scaled, y_train_cat)\n",
    "#print('Evaluation on test set')\n",
    "#NN.evaluate(X_test_scaled, y_test_cat)\n"
   ]
  },
  {
   "cell_type": "code",
   "execution_count": 28,
   "metadata": {},
   "outputs": [
    {
     "name": "stdout",
     "output_type": "stream",
     "text": [
      "Evaluation on test set 0\n",
      "11085/11085 [==============================] - 1s 90us/sample - loss: 0.9037 - acc: 0.5667\n",
      "Evaluation on test set 1\n",
      "43853/43853 [==============================] - 4s 89us/sample - loss: 0.1531 - acc: 0.9538\n"
     ]
    },
    {
     "data": {
      "text/plain": [
       "[0.1531269071617779, 0.9537546]"
      ]
     },
     "execution_count": 28,
     "metadata": {},
     "output_type": "execute_result"
    }
   ],
   "source": [
    "print('Evaluation on test set 0')\n",
    "NN.evaluate(X_test_scaled[y_test==0], y_test_cat[y_test==0])\n",
    "print('Evaluation on test set 1')\n",
    "NN.evaluate(X_test_scaled[y_test==1], y_test_cat[y_test==1])"
   ]
  },
  {
   "cell_type": "code",
   "execution_count": 29,
   "metadata": {},
   "outputs": [],
   "source": [
    "model_name='NN_base'\n",
    "#NN.save(path+'models/'+model_name+'/')"
   ]
  },
  {
   "cell_type": "code",
   "execution_count": 30,
   "metadata": {},
   "outputs": [
    {
     "data": {
      "image/png": "[encoded data removed]",
      "text/plain": [
       "<Figure size 432x288 with 1 Axes>"
      ]
     },
     "metadata": {
      "needs_background": "light"
     },
     "output_type": "display_data"
    },
    {
     "data": {
      "image/png": "[encoded data removed]",
      "text/plain": [
       "<Figure size 432x288 with 1 Axes>"
      ]
     },
     "metadata": {
      "needs_background": "light"
     },
     "output_type": "display_data"
    },
    {
     "name": "stderr",
     "output_type": "stream",
     "text": [
      "/afs/le.infn.it/user/c/centonze/miniconda3/envs/ML/lib/python3.7/site-packages/ipykernel_launcher.py:55: RuntimeWarning: divide by zero encountered in true_divide\n"
     ]
    },
    {
     "name": "stdout",
     "output_type": "stream",
     "text": [
      "['3.4', '2.6', '1.9', '1.4']\n"
     ]
    },
    {
     "data": {
      "image/png": "[encoded data removed]",
      "text/plain": [
       "<Figure size 432x288 with 1 Axes>"
      ]
     },
     "metadata": {
      "needs_background": "light"
     },
     "output_type": "display_data"
    }
   ],
   "source": [
    "NN_base=ROC(NN,X_test_scaled,y_test,model_name)"
   ]
  },
  {
   "cell_type": "code",
   "execution_count": null,
   "metadata": {},
   "outputs": [],
   "source": []
  },
  {
   "cell_type": "code",
   "execution_count": null,
   "metadata": {},
   "outputs": [],
   "source": []
  },
  {
   "cell_type": "code",
   "execution_count": null,
   "metadata": {},
   "outputs": [],
   "source": []
  },
  {
   "cell_type": "code",
   "execution_count": null,
   "metadata": {},
   "outputs": [],
   "source": []
  },
  {
   "cell_type": "code",
   "execution_count": null,
   "metadata": {},
   "outputs": [],
   "source": []
  },
  {
   "cell_type": "code",
   "execution_count": null,
   "metadata": {},
   "outputs": [],
   "source": []
  },
  {
   "cell_type": "markdown",
   "metadata": {},
   "source": [
    "REPLICATING HIGH PERFORMANCE RESULTS WITH WRONG SCALING 0"
   ]
  },
  {
   "cell_type": "code",
   "execution_count": null,
   "metadata": {},
   "outputs": [],
   "source": [
    "Dir='/nfs/kloe/einstein4/martino/'\n",
    "mode='VariableCone'\n",
    "path=Dir+'PKL/Zprime'+mode+'/wrongscalingJet/'#'/singleBJetnocut/'\n",
    "\n",
    "columns_list=np.array(['log_pt', 'eta', 'theta', 'phi', 'log_dr', 'log_ptfrac'])"
   ]
  },
  {
   "cell_type": "code",
   "execution_count": 10,
   "metadata": {},
   "outputs": [],
   "source": [
    "def retrieve_dataset(path):\n",
    "    X_train_scaled=np.genfromtxt(path+\"X_train.csv\",delimiter=',')\n",
    "    X_test_scaled=np.genfromtxt(path+\"X_test.csv\",delimiter=',')\n",
    "    y_train=np.genfromtxt(path+\"y_train.csv\",delimiter=',')\n",
    "    y_train_cat=np.genfromtxt(path+\"y_train_cat.csv\",delimiter=',')\n",
    "    y_test=np.genfromtxt(path+\"y_test.csv\",delimiter=',')\n",
    "    y_test_cat=np.genfromtxt(path+\"y_test_cat.csv\",delimiter=',')\n",
    "    return X_train_scaled, X_test_scaled, y_train, y_train_cat, y_test, y_test_cat"
   ]
  },
  {
   "cell_type": "code",
   "execution_count": 11,
   "metadata": {},
   "outputs": [],
   "source": [
    "X_train_scaled, X_test_scaled, y_train, y_train_cat, y_test, y_test_cat=retrieve_dataset(path)"
   ]
  },
  {
   "cell_type": "code",
   "execution_count": 12,
   "metadata": {},
   "outputs": [],
   "source": [
    "n_c=16\n",
    "\n",
    "NN = models.Sequential()\n",
    "NN.add(layers.Dense(2*n_c, activation='relu'))\n",
    "NN.add(layers.Dense(2*n_c, activation='relu'))\n",
    "NN.add(layers.Dense(2, activation='softmax', name='preds'))"
   ]
  },
  {
   "cell_type": "code",
   "execution_count": 16,
   "metadata": {},
   "outputs": [],
   "source": [
    "NN.compile(optimizer='adam',\n",
    "                loss='categorical_crossentropy',\n",
    "                metrics = ['accuracy'])"
   ]
  },
  {
   "cell_type": "code",
   "execution_count": 17,
   "metadata": {},
   "outputs": [
    {
     "name": "stdout",
     "output_type": "stream",
     "text": [
      "Train on 583608 samples\n",
      "Epoch 1/100\n",
      "583608/583608 [==============================] - 10s 17us/sample - loss: 0.5479 - acc: 0.7344\n",
      "Epoch 2/100\n",
      "583608/583608 [==============================] - 12s 21us/sample - loss: 0.5368 - acc: 0.7406\n",
      "Epoch 3/100\n",
      "583608/583608 [==============================] - 9s 16us/sample - loss: 0.5314 - acc: 0.7430\n",
      "Epoch 4/100\n",
      "583608/583608 [==============================] - 9s 15us/sample - loss: 0.5282 - acc: 0.7443\n",
      "Epoch 5/100\n",
      "583608/583608 [==============================] - 9s 15us/sample - loss: 0.5260 - acc: 0.7450\n",
      "Epoch 6/100\n",
      "583608/583608 [==============================] - 9s 15us/sample - loss: 0.5243 - acc: 0.7454\n",
      "Epoch 7/100\n",
      "583608/583608 [==============================] - 10s 17us/sample - loss: 0.5226 - acc: 0.7458\n",
      "Epoch 8/100\n",
      "583608/583608 [==============================] - 13s 23us/sample - loss: 0.5196 - acc: 0.7468\n",
      "Epoch 9/100\n",
      "583608/583608 [==============================] - 9s 15us/sample - loss: 0.5135 - acc: 0.7494\n",
      "Epoch 10/100\n",
      "583608/583608 [==============================] - 8s 14us/sample - loss: 0.5013 - acc: 0.7574\n",
      "Epoch 11/100\n",
      "583608/583608 [==============================] - 13s 23us/sample - loss: 0.4820 - acc: 0.7720\n",
      "Epoch 12/100\n",
      "583608/583608 [==============================] - 17s 29us/sample - loss: 0.4569 - acc: 0.7882\n",
      "Epoch 13/100\n",
      "583608/583608 [==============================] - 17s 30us/sample - loss: 0.4308 - acc: 0.8028\n",
      "Epoch 14/100\n",
      "583608/583608 [==============================] - 13s 22us/sample - loss: 0.4060 - acc: 0.8153\n",
      "Epoch 15/100\n",
      "583608/583608 [==============================] - 12s 21us/sample - loss: 0.3827 - acc: 0.8268\n",
      "Epoch 16/100\n",
      "583608/583608 [==============================] - 9s 16us/sample - loss: 0.3571 - acc: 0.8412\n",
      "Epoch 17/100\n",
      "583608/583608 [==============================] - 12s 21us/sample - loss: 0.3295 - acc: 0.8586\n",
      "Epoch 18/100\n",
      "583608/583608 [==============================] - 11s 19us/sample - loss: 0.3012 - acc: 0.8795\n",
      "Epoch 19/100\n",
      "583608/583608 [==============================] - 9s 15us/sample - loss: 0.2734 - acc: 0.8986\n",
      "Epoch 20/100\n",
      "583608/583608 [==============================] - 9s 15us/sample - loss: 0.2464 - acc: 0.9145\n",
      "Epoch 21/100\n",
      "583608/583608 [==============================] - 9s 15us/sample - loss: 0.2215 - acc: 0.9261\n",
      "Epoch 22/100\n",
      "583608/583608 [==============================] - 9s 15us/sample - loss: 0.1973 - acc: 0.9374\n",
      "Epoch 23/100\n",
      "583608/583608 [==============================] - 11s 19us/sample - loss: 0.1759 - acc: 0.9456\n",
      "Epoch 24/100\n",
      "583608/583608 [==============================] - 10s 18us/sample - loss: 0.1589 - acc: 0.9506\n",
      "Epoch 25/100\n",
      "583608/583608 [==============================] - 9s 16us/sample - loss: 0.1454 - acc: 0.9545\n",
      "Epoch 26/100\n",
      "583608/583608 [==============================] - 9s 16us/sample - loss: 0.1336 - acc: 0.9581\n",
      "Epoch 27/100\n",
      "583608/583608 [==============================] - 9s 16us/sample - loss: 0.1248 - acc: 0.9607\n",
      "Epoch 28/100\n",
      "583608/583608 [==============================] - 10s 17us/sample - loss: 0.1178 - acc: 0.9622\n",
      "Epoch 29/100\n",
      "583608/583608 [==============================] - 11s 20us/sample - loss: 0.1104 - acc: 0.9647\n",
      "Epoch 30/100\n",
      "583608/583608 [==============================] - 11s 20us/sample - loss: 0.1045 - acc: 0.9662\n",
      "Epoch 31/100\n",
      "583608/583608 [==============================] - 12s 20us/sample - loss: 0.1003 - acc: 0.9671\n",
      "Epoch 32/100\n",
      "583608/583608 [==============================] - 13s 23us/sample - loss: 0.0963 - acc: 0.9683\n",
      "Epoch 33/100\n",
      "583608/583608 [==============================] - 18s 31us/sample - loss: 0.0913 - acc: 0.9699\n",
      "Epoch 34/100\n",
      "583608/583608 [==============================] - 16s 27us/sample - loss: 0.0888 - acc: 0.9703\n",
      "Epoch 35/100\n",
      "583608/583608 [==============================] - 10s 17us/sample - loss: 0.0864 - acc: 0.9707\n",
      "Epoch 36/100\n",
      "583608/583608 [==============================] - 14s 24us/sample - loss: 0.0840 - acc: 0.9711\n",
      "Epoch 37/100\n",
      "583608/583608 [==============================] - 13s 22us/sample - loss: 0.0824 - acc: 0.9715\n",
      "Epoch 38/100\n",
      "583608/583608 [==============================] - 16s 28us/sample - loss: 0.0792 - acc: 0.9726\n",
      "Epoch 39/100\n",
      "583608/583608 [==============================] - 9s 16us/sample - loss: 0.0781 - acc: 0.9727\n",
      "Epoch 40/100\n",
      "583608/583608 [==============================] - 9s 16us/sample - loss: 0.0773 - acc: 0.9729\n",
      "Epoch 41/100\n",
      "583608/583608 [==============================] - 9s 15us/sample - loss: 0.0738 - acc: 0.9739\n",
      "Epoch 42/100\n",
      "583608/583608 [==============================] - 9s 15us/sample - loss: 0.0737 - acc: 0.9738\n",
      "Epoch 43/100\n",
      "583608/583608 [==============================] - 12s 21us/sample - loss: 0.0729 - acc: 0.9737\n",
      "Epoch 44/100\n",
      "583608/583608 [==============================] - 9s 15us/sample - loss: 0.0720 - acc: 0.9739\n",
      "Epoch 45/100\n",
      "583608/583608 [==============================] - 9s 15us/sample - loss: 0.0705 - acc: 0.9744\n",
      "Epoch 46/100\n",
      "583608/583608 [==============================] - 9s 15us/sample - loss: 0.0694 - acc: 0.9748\n",
      "Epoch 47/100\n",
      "583608/583608 [==============================] - 8s 14us/sample - loss: 0.0684 - acc: 0.9750\n",
      "Epoch 48/100\n",
      "583608/583608 [==============================] - 10s 17us/sample - loss: 0.0664 - acc: 0.9758\n",
      "Epoch 49/100\n",
      "583608/583608 [==============================] - 10s 18us/sample - loss: 0.0670 - acc: 0.9752\n",
      "Epoch 50/100\n",
      "583608/583608 [==============================] - 9s 15us/sample - loss: 0.0663 - acc: 0.9756\n",
      "Epoch 51/100\n",
      "583608/583608 [==============================] - 8s 14us/sample - loss: 0.0644 - acc: 0.9761\n",
      "Epoch 52/100\n",
      "583608/583608 [==============================] - 12s 20us/sample - loss: 0.0644 - acc: 0.9764\n",
      "Epoch 53/100\n",
      "583608/583608 [==============================] - 17s 30us/sample - loss: 0.0638 - acc: 0.9764\n",
      "Epoch 54/100\n",
      "583608/583608 [==============================] - 18s 31us/sample - loss: 0.0625 - acc: 0.9769\n",
      "Epoch 55/100\n",
      "583608/583608 [==============================] - 17s 30us/sample - loss: 0.0618 - acc: 0.9770\n",
      "Epoch 56/100\n",
      "583608/583608 [==============================] - 15s 26us/sample - loss: 0.0637 - acc: 0.9760\n",
      "Epoch 57/100\n",
      "583608/583608 [==============================] - 14s 24us/sample - loss: 0.0603 - acc: 0.9774\n",
      "Epoch 58/100\n",
      "583608/583608 [==============================] - 9s 16us/sample - loss: 0.0606 - acc: 0.9771\n",
      "Epoch 59/100\n",
      "583608/583608 [==============================] - 10s 17us/sample - loss: 0.0608 - acc: 0.9768\n",
      "Epoch 60/100\n",
      "583608/583608 [==============================] - 9s 16us/sample - loss: 0.0598 - acc: 0.9776\n",
      "Epoch 61/100\n",
      "583608/583608 [==============================] - 12s 21us/sample - loss: 0.0600 - acc: 0.9771\n",
      "Epoch 62/100\n",
      "583608/583608 [==============================] - 10s 17us/sample - loss: 0.0591 - acc: 0.9773\n",
      "Epoch 63/100\n",
      "583608/583608 [==============================] - 10s 17us/sample - loss: 0.0595 - acc: 0.9770\n",
      "Epoch 64/100\n",
      "583608/583608 [==============================] - 8s 14us/sample - loss: 0.0581 - acc: 0.9781\n",
      "Epoch 65/100\n",
      "583608/583608 [==============================] - 10s 16us/sample - loss: 0.0579 - acc: 0.9780\n",
      "Epoch 66/100\n",
      "583608/583608 [==============================] - 12s 21us/sample - loss: 0.0590 - acc: 0.9771\n",
      "Epoch 67/100\n",
      "583608/583608 [==============================] - 9s 16us/sample - loss: 0.0560 - acc: 0.9786\n",
      "Epoch 68/100\n",
      "583608/583608 [==============================] - 9s 15us/sample - loss: 0.0583 - acc: 0.9775\n",
      "Epoch 69/100\n",
      "583608/583608 [==============================] - 9s 15us/sample - loss: 0.0569 - acc: 0.9780\n",
      "Epoch 70/100\n",
      "583608/583608 [==============================] - 10s 17us/sample - loss: 0.0572 - acc: 0.9779\n",
      "Epoch 71/100\n",
      "583608/583608 [==============================] - 10s 17us/sample - loss: 0.0561 - acc: 0.9784\n",
      "Epoch 72/100\n",
      "583608/583608 [==============================] - 12s 21us/sample - loss: 0.0560 - acc: 0.9786\n",
      "Epoch 73/100\n",
      "583608/583608 [==============================] - 13s 21us/sample - loss: 0.0544 - acc: 0.9791\n",
      "Epoch 74/100\n",
      "583608/583608 [==============================] - 13s 23us/sample - loss: 0.0540 - acc: 0.9793\n",
      "Epoch 75/100\n",
      "583608/583608 [==============================] - 18s 30us/sample - loss: 0.0551 - acc: 0.9785\n",
      "Epoch 76/100\n",
      "583608/583608 [==============================] - 18s 30us/sample - loss: 0.0541 - acc: 0.9788\n",
      "Epoch 77/100\n"
     ]
    },
    {
     "name": "stdout",
     "output_type": "stream",
     "text": [
      "583608/583608 [==============================] - 13s 22us/sample - loss: 0.0563 - acc: 0.9778\n",
      "Epoch 78/100\n",
      "583608/583608 [==============================] - 13s 22us/sample - loss: 0.0561 - acc: 0.9779\n",
      "Epoch 79/100\n",
      "583608/583608 [==============================] - 14s 24us/sample - loss: 0.0559 - acc: 0.9781\n",
      "Epoch 80/100\n",
      "583608/583608 [==============================] - 17s 29us/sample - loss: 0.0533 - acc: 0.9790\n",
      "Epoch 81/100\n",
      "583608/583608 [==============================] - 9s 16us/sample - loss: 0.0536 - acc: 0.9790\n",
      "Epoch 82/100\n",
      "583608/583608 [==============================] - 9s 15us/sample - loss: 0.0549 - acc: 0.9783\n",
      "Epoch 83/100\n",
      "583608/583608 [==============================] - 9s 15us/sample - loss: 0.0529 - acc: 0.9793\n",
      "Epoch 84/100\n",
      "583608/583608 [==============================] - 9s 15us/sample - loss: 0.0539 - acc: 0.9788\n",
      "Epoch 85/100\n",
      "583608/583608 [==============================] - 10s 18us/sample - loss: 0.0520 - acc: 0.9798\n",
      "Epoch 86/100\n",
      "583608/583608 [==============================] - 12s 20us/sample - loss: 0.0532 - acc: 0.9791\n",
      "Epoch 87/100\n",
      "583608/583608 [==============================] - 9s 16us/sample - loss: 0.0542 - acc: 0.9786\n",
      "Epoch 88/100\n",
      "583608/583608 [==============================] - 10s 17us/sample - loss: 0.0530 - acc: 0.9791\n",
      "Epoch 89/100\n",
      "583608/583608 [==============================] - 10s 17us/sample - loss: 0.0530 - acc: 0.9792\n",
      "Epoch 90/100\n",
      "583608/583608 [==============================] - 13s 23us/sample - loss: 0.0508 - acc: 0.9799\n",
      "Epoch 91/100\n",
      "583608/583608 [==============================] - 16s 27us/sample - loss: 0.0519 - acc: 0.9793\n",
      "Epoch 92/100\n",
      "583608/583608 [==============================] - 12s 21us/sample - loss: 0.0506 - acc: 0.9801\n",
      "Epoch 93/100\n",
      "583608/583608 [==============================] - 13s 22us/sample - loss: 0.0542 - acc: 0.9787\n",
      "Epoch 94/100\n",
      "583608/583608 [==============================] - 13s 23us/sample - loss: 0.0513 - acc: 0.9799\n",
      "Epoch 95/100\n",
      "583608/583608 [==============================] - 14s 24us/sample - loss: 0.0510 - acc: 0.9799\n",
      "Epoch 96/100\n",
      "583608/583608 [==============================] - 9s 16us/sample - loss: 0.0506 - acc: 0.9801\n",
      "Epoch 97/100\n",
      "583608/583608 [==============================] - 9s 15us/sample - loss: 0.0499 - acc: 0.9804\n",
      "Epoch 98/100\n",
      "583608/583608 [==============================] - 11s 19us/sample - loss: 0.0515 - acc: 0.9794\n",
      "Epoch 99/100\n",
      "583608/583608 [==============================] - 13s 22us/sample - loss: 0.0516 - acc: 0.9795\n",
      "Epoch 100/100\n",
      "583608/583608 [==============================] - 16s 27us/sample - loss: 0.0518 - acc: 0.9794\n"
     ]
    },
    {
     "ename": "KeyError",
     "evalue": "'accuracy'",
     "output_type": "error",
     "traceback": [
      "\u001b[0;31m---------------------------------------------------------------------------\u001b[0m",
      "\u001b[0;31mKeyError\u001b[0m                                  Traceback (most recent call last)",
      "\u001b[0;32m<ipython-input-17-c19e65e3f3a0>\u001b[0m in \u001b[0;36m<module>\u001b[0;34m\u001b[0m\n\u001b[1;32m      3\u001b[0m \u001b[0mfig\u001b[0m \u001b[0;34m=\u001b[0m \u001b[0mplt\u001b[0m\u001b[0;34m.\u001b[0m\u001b[0mfigure\u001b[0m\u001b[0;34m(\u001b[0m\u001b[0;34m)\u001b[0m\u001b[0;34m\u001b[0m\u001b[0;34m\u001b[0m\u001b[0m\n\u001b[1;32m      4\u001b[0m \u001b[0mplt\u001b[0m\u001b[0;34m.\u001b[0m\u001b[0msubplot\u001b[0m\u001b[0;34m(\u001b[0m\u001b[0;36m2\u001b[0m\u001b[0;34m,\u001b[0m\u001b[0;36m1\u001b[0m\u001b[0;34m,\u001b[0m\u001b[0;36m1\u001b[0m\u001b[0;34m)\u001b[0m\u001b[0;34m\u001b[0m\u001b[0;34m\u001b[0m\u001b[0m\n\u001b[0;32m----> 5\u001b[0;31m \u001b[0mplt\u001b[0m\u001b[0;34m.\u001b[0m\u001b[0mplot\u001b[0m\u001b[0;34m(\u001b[0m\u001b[0mhistory\u001b[0m\u001b[0;34m.\u001b[0m\u001b[0mhistory\u001b[0m\u001b[0;34m[\u001b[0m\u001b[0;34m'accuracy'\u001b[0m\u001b[0;34m]\u001b[0m\u001b[0;34m)\u001b[0m\u001b[0;34m\u001b[0m\u001b[0;34m\u001b[0m\u001b[0m\n\u001b[0m\u001b[1;32m      6\u001b[0m \u001b[0mplt\u001b[0m\u001b[0;34m.\u001b[0m\u001b[0mtitle\u001b[0m\u001b[0;34m(\u001b[0m\u001b[0;34m'model accuracy'\u001b[0m\u001b[0;34m)\u001b[0m\u001b[0;34m\u001b[0m\u001b[0;34m\u001b[0m\u001b[0m\n\u001b[1;32m      7\u001b[0m \u001b[0mplt\u001b[0m\u001b[0;34m.\u001b[0m\u001b[0mylabel\u001b[0m\u001b[0;34m(\u001b[0m\u001b[0;34m'accuracy'\u001b[0m\u001b[0;34m)\u001b[0m\u001b[0;34m\u001b[0m\u001b[0;34m\u001b[0m\u001b[0m\n",
      "\u001b[0;31mKeyError\u001b[0m: 'accuracy'"
     ]
    },
    {
     "data": {
      "image/png": "[encoded data removed]",
      "text/plain": [
       "<Figure size 432x288 with 1 Axes>"
      ]
     },
     "metadata": {
      "needs_background": "light"
     },
     "output_type": "display_data"
    }
   ],
   "source": [
    "history=NN.fit(X_train_scaled, y_train_cat, epochs=100, batch_size=250, verbose=1)"
   ]
  },
  {
   "cell_type": "code",
   "execution_count": 18,
   "metadata": {},
   "outputs": [
    {
     "name": "stdout",
     "output_type": "stream",
     "text": [
      "accuracy: 0.9793834 loss: 0.05184917428322698\n"
     ]
    },
    {
     "data": {
      "image/png": "[encoded data removed]",
      "text/plain": [
       "<Figure size 432x288 with 2 Axes>"
      ]
     },
     "metadata": {
      "needs_background": "light"
     },
     "output_type": "display_data"
    }
   ],
   "source": [
    "fig = plt.figure()\n",
    "plt.subplot(2,1,1)\n",
    "plt.plot(history.history['acc'])\n",
    "plt.title('model accuracy')\n",
    "plt.ylabel('accuracy')\n",
    "plt.xlabel('epoch')\n",
    "#plt.xscale('log')\n",
    "plt.subplot(2,1,2)\n",
    "plt.plot(history.history['loss'])\n",
    "plt.title('model loss')\n",
    "plt.ylabel('loss')\n",
    "plt.xlabel('epoch')\n",
    "#plt.xscale('log')\n",
    "\n",
    "plt.tight_layout()\n",
    "\n",
    "fig\n",
    "print('accuracy:', history.history['acc'][-1], 'loss:', history.history['loss'][-1])"
   ]
  },
  {
   "cell_type": "code",
   "execution_count": 19,
   "metadata": {},
   "outputs": [
    {
     "name": "stdout",
     "output_type": "stream",
     "text": [
      "Evaluation on test set 0\n",
      "100189/100189 [==============================] - 7s 70us/sample - loss: 0.0372 - acc: 0.9905\n",
      "Evaluation on test set 1\n",
      "45713/45713 [==============================] - 3s 61us/sample - loss: 0.0610 - acc: 0.9676\n"
     ]
    },
    {
     "data": {
      "text/plain": [
       "[0.060954502341172986, 0.96755844]"
      ]
     },
     "execution_count": 19,
     "metadata": {},
     "output_type": "execute_result"
    }
   ],
   "source": [
    "print('Evaluation on test set 0')\n",
    "NN.evaluate(X_test_scaled[y_test==0], y_test_cat[y_test==0])\n",
    "print('Evaluation on test set 1')\n",
    "NN.evaluate(X_test_scaled[y_test==1], y_test_cat[y_test==1])"
   ]
  },
  {
   "cell_type": "code",
   "execution_count": 20,
   "metadata": {},
   "outputs": [
    {
     "data": {
      "image/png": "[encoded data removed]",
      "text/plain": [
       "<Figure size 432x288 with 1 Axes>"
      ]
     },
     "metadata": {
      "needs_background": "light"
     },
     "output_type": "display_data"
    },
    {
     "data": {
      "image/png": "[encoded data removed]",
      "text/plain": [
       "<Figure size 432x288 with 1 Axes>"
      ]
     },
     "metadata": {
      "needs_background": "light"
     },
     "output_type": "display_data"
    },
    {
     "name": "stderr",
     "output_type": "stream",
     "text": [
      "/afs/le.infn.it/user/c/centonze/miniconda3/envs/ML/lib/python3.7/site-packages/ipykernel_launcher.py:55: RuntimeWarning: divide by zero encountered in true_divide\n"
     ]
    },
    {
     "name": "stdout",
     "output_type": "stream",
     "text": [
      "['7156.4', '902.6', '87.8', '22.7']\n"
     ]
    },
    {
     "data": {
      "image/png": "[encoded data removed]",
      "text/plain": [
       "<Figure size 432x288 with 1 Axes>"
      ]
     },
     "metadata": {
      "needs_background": "light"
     },
     "output_type": "display_data"
    }
   ],
   "source": [
    "model_name='NN_base_wrongscaled'\n",
    "#NN.save(path+'models/'+model_name+'/')\n",
    "NN_base_wrongscaled=ROC(NN,X_test_scaled,y_test,model_name)"
   ]
  },
  {
   "cell_type": "code",
   "execution_count": null,
   "metadata": {},
   "outputs": [],
   "source": []
  },
  {
   "cell_type": "code",
   "execution_count": null,
   "metadata": {},
   "outputs": [],
   "source": []
  },
  {
   "cell_type": "code",
   "execution_count": null,
   "metadata": {},
   "outputs": [],
   "source": []
  },
  {
   "cell_type": "code",
   "execution_count": null,
   "metadata": {},
   "outputs": [],
   "source": []
  },
  {
   "cell_type": "code",
   "execution_count": null,
   "metadata": {},
   "outputs": [],
   "source": []
  }
 ],
 "metadata": {
  "kernelspec": {
   "display_name": "Python 3",
   "language": "python",
   "name": "python3"
  },
  "language_info": {
   "codemirror_mode": {
    "name": "ipython",
    "version": 3
   },
   "file_extension": ".py",
   "mimetype": "text/x-python",
   "name": "python",
   "nbconvert_exporter": "python",
   "pygments_lexer": "ipython3",
   "version": "3.7.3"
  }
 },
 "nbformat": 4,
 "nbformat_minor": 4
}
