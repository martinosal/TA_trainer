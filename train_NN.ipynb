{
 "cells": [
  {
   "cell_type": "code",
   "execution_count": 17,
   "metadata": {},
   "outputs": [
    {
     "data": {
      "text/plain": [
       "([PhysicalDevice(name='/physical_device:GPU:0', device_type='GPU')],\n",
       " [PhysicalDevice(name='/physical_device:CPU:0', device_type='CPU')])"
      ]
     },
     "execution_count": 17,
     "metadata": {},
     "output_type": "execute_result"
    }
   ],
   "source": [
    "import tensorflow as tf\n",
    "tf.config.list_physical_devices('GPU'),tf.config.list_physical_devices('CPU')"
   ]
  },
  {
   "cell_type": "code",
   "execution_count": 2,
   "metadata": {},
   "outputs": [],
   "source": [
    "#from numba import cuda \n",
    "#device = cuda.get_current_device()\n",
    "#device.reset()"
   ]
  },
  {
   "cell_type": "code",
   "execution_count": 18,
   "metadata": {},
   "outputs": [],
   "source": [
    "import data_preprocess_functions as dp_f\n",
    "\n",
    "import numpy as np\n",
    "import pandas as pd\n",
    "import matplotlib.pyplot as plt\n",
    "\n",
    "from sklearn.preprocessing import RobustScaler\n",
    "from sklearn.preprocessing import StandardScaler\n",
    "from sklearn.model_selection import train_test_split\n",
    "from sklearn.utils import shuffle\n",
    "\n",
    "from tensorflow.keras.utils import to_categorical\n",
    "from tensorflow.keras import models\n",
    "from tensorflow.keras import layers\n",
    "from tensorflow.keras.models import Sequential"
   ]
  },
  {
   "cell_type": "code",
   "execution_count": 19,
   "metadata": {},
   "outputs": [],
   "source": [
    "columns_list=np.array(['log_pt', 'eta', 'theta', 'phi', 'log_dr', 'log_ptfrac'])"
   ]
  },
  {
   "cell_type": "code",
   "execution_count": 20,
   "metadata": {},
   "outputs": [],
   "source": [
    "mode='VariableCone_m/'\n",
    "#path='../PKL/Zprime'+mode+'singleBJet/'\n",
    "\n",
    "path='../PKL/Zprime'+mode+'wrongscalingJet/'"
   ]
  },
  {
   "cell_type": "code",
   "execution_count": 21,
   "metadata": {
    "collapsed": true
   },
   "outputs": [
    {
     "ename": "OSError",
     "evalue": "../PKL/ZprimeVariableCone_m/wrongscalingJet/X_train_scaled.csv not found.",
     "output_type": "error",
     "traceback": [
      "\u001b[0;31m---------------------------------------------------------------------------\u001b[0m",
      "\u001b[0;31mOSError\u001b[0m                                   Traceback (most recent call last)",
      "\u001b[0;32m<ipython-input-21-8d5c96aa34df>\u001b[0m in \u001b[0;36m<module>\u001b[0;34m\u001b[0m\n\u001b[0;32m----> 1\u001b[0;31m \u001b[0mX_train\u001b[0m\u001b[0;34m,\u001b[0m \u001b[0mX_train_scaled\u001b[0m\u001b[0;34m,\u001b[0m \u001b[0mX_test\u001b[0m\u001b[0;34m,\u001b[0m \u001b[0mX_test_scaled\u001b[0m\u001b[0;34m,\u001b[0m \u001b[0my_train\u001b[0m\u001b[0;34m,\u001b[0m \u001b[0my_train_cat\u001b[0m\u001b[0;34m,\u001b[0m \u001b[0my_test\u001b[0m\u001b[0;34m,\u001b[0m \u001b[0my_test_cat\u001b[0m\u001b[0;34m=\u001b[0m\u001b[0mdp_f\u001b[0m\u001b[0;34m.\u001b[0m\u001b[0mretrieve_dataset\u001b[0m\u001b[0;34m(\u001b[0m\u001b[0mpath\u001b[0m\u001b[0;34m)\u001b[0m\u001b[0;34m\u001b[0m\u001b[0;34m\u001b[0m\u001b[0m\n\u001b[0m",
      "\u001b[0;32m~/Private/TrackAssociator/v6/scripts/data_preprocess_functions.py\u001b[0m in \u001b[0;36mretrieve_dataset\u001b[0;34m(path)\u001b[0m\n\u001b[1;32m    145\u001b[0m \u001b[0;32mdef\u001b[0m \u001b[0mretrieve_dataset\u001b[0m\u001b[0;34m(\u001b[0m\u001b[0mpath\u001b[0m\u001b[0;34m)\u001b[0m\u001b[0;34m:\u001b[0m\u001b[0;34m\u001b[0m\u001b[0;34m\u001b[0m\u001b[0m\n\u001b[1;32m    146\u001b[0m     \u001b[0mX_train\u001b[0m\u001b[0;34m=\u001b[0m\u001b[0mgenfromtxt\u001b[0m\u001b[0;34m(\u001b[0m\u001b[0mpath\u001b[0m\u001b[0;34m+\u001b[0m\u001b[0;34m\"X_train.csv\"\u001b[0m\u001b[0;34m,\u001b[0m\u001b[0mdelimiter\u001b[0m\u001b[0;34m=\u001b[0m\u001b[0;34m','\u001b[0m\u001b[0;34m)\u001b[0m\u001b[0;34m\u001b[0m\u001b[0;34m\u001b[0m\u001b[0m\n\u001b[0;32m--> 147\u001b[0;31m     \u001b[0mX_train_scaled\u001b[0m\u001b[0;34m=\u001b[0m\u001b[0mgenfromtxt\u001b[0m\u001b[0;34m(\u001b[0m\u001b[0mpath\u001b[0m\u001b[0;34m+\u001b[0m\u001b[0;34m\"X_train_scaled.csv\"\u001b[0m\u001b[0;34m,\u001b[0m\u001b[0mdelimiter\u001b[0m\u001b[0;34m=\u001b[0m\u001b[0;34m','\u001b[0m\u001b[0;34m)\u001b[0m\u001b[0;34m\u001b[0m\u001b[0;34m\u001b[0m\u001b[0m\n\u001b[0m\u001b[1;32m    148\u001b[0m     \u001b[0mX_test\u001b[0m\u001b[0;34m=\u001b[0m\u001b[0mgenfromtxt\u001b[0m\u001b[0;34m(\u001b[0m\u001b[0mpath\u001b[0m\u001b[0;34m+\u001b[0m\u001b[0;34m\"X_test.csv\"\u001b[0m\u001b[0;34m,\u001b[0m\u001b[0mdelimiter\u001b[0m\u001b[0;34m=\u001b[0m\u001b[0;34m','\u001b[0m\u001b[0;34m)\u001b[0m\u001b[0;34m\u001b[0m\u001b[0;34m\u001b[0m\u001b[0m\n\u001b[1;32m    149\u001b[0m     \u001b[0mX_test_scaled\u001b[0m\u001b[0;34m=\u001b[0m\u001b[0mgenfromtxt\u001b[0m\u001b[0;34m(\u001b[0m\u001b[0mpath\u001b[0m\u001b[0;34m+\u001b[0m\u001b[0;34m\"X_test_scaled.csv\"\u001b[0m\u001b[0;34m,\u001b[0m\u001b[0mdelimiter\u001b[0m\u001b[0;34m=\u001b[0m\u001b[0;34m','\u001b[0m\u001b[0;34m)\u001b[0m\u001b[0;34m\u001b[0m\u001b[0;34m\u001b[0m\u001b[0m\n",
      "\u001b[0;32m/usr/lib/python3.9/site-packages/numpy/lib/npyio.py\u001b[0m in \u001b[0;36mgenfromtxt\u001b[0;34m(fname, dtype, comments, delimiter, skip_header, skip_footer, converters, missing_values, filling_values, usecols, names, excludelist, deletechars, replace_space, autostrip, case_sensitive, defaultfmt, unpack, usemask, loose, invalid_raise, max_rows, encoding, like)\u001b[0m\n\u001b[1;32m   1789\u001b[0m             \u001b[0mfname\u001b[0m \u001b[0;34m=\u001b[0m \u001b[0mos_fspath\u001b[0m\u001b[0;34m(\u001b[0m\u001b[0mfname\u001b[0m\u001b[0;34m)\u001b[0m\u001b[0;34m\u001b[0m\u001b[0;34m\u001b[0m\u001b[0m\n\u001b[1;32m   1790\u001b[0m         \u001b[0;32mif\u001b[0m \u001b[0misinstance\u001b[0m\u001b[0;34m(\u001b[0m\u001b[0mfname\u001b[0m\u001b[0;34m,\u001b[0m \u001b[0mstr\u001b[0m\u001b[0;34m)\u001b[0m\u001b[0;34m:\u001b[0m\u001b[0;34m\u001b[0m\u001b[0;34m\u001b[0m\u001b[0m\n\u001b[0;32m-> 1791\u001b[0;31m             \u001b[0mfid\u001b[0m \u001b[0;34m=\u001b[0m \u001b[0mnp\u001b[0m\u001b[0;34m.\u001b[0m\u001b[0mlib\u001b[0m\u001b[0;34m.\u001b[0m\u001b[0m_datasource\u001b[0m\u001b[0;34m.\u001b[0m\u001b[0mopen\u001b[0m\u001b[0;34m(\u001b[0m\u001b[0mfname\u001b[0m\u001b[0;34m,\u001b[0m \u001b[0;34m'rt'\u001b[0m\u001b[0;34m,\u001b[0m \u001b[0mencoding\u001b[0m\u001b[0;34m=\u001b[0m\u001b[0mencoding\u001b[0m\u001b[0;34m)\u001b[0m\u001b[0;34m\u001b[0m\u001b[0;34m\u001b[0m\u001b[0m\n\u001b[0m\u001b[1;32m   1792\u001b[0m             \u001b[0mfid_ctx\u001b[0m \u001b[0;34m=\u001b[0m \u001b[0mcontextlib\u001b[0m\u001b[0;34m.\u001b[0m\u001b[0mclosing\u001b[0m\u001b[0;34m(\u001b[0m\u001b[0mfid\u001b[0m\u001b[0;34m)\u001b[0m\u001b[0;34m\u001b[0m\u001b[0;34m\u001b[0m\u001b[0m\n\u001b[1;32m   1793\u001b[0m         \u001b[0;32melse\u001b[0m\u001b[0;34m:\u001b[0m\u001b[0;34m\u001b[0m\u001b[0;34m\u001b[0m\u001b[0m\n",
      "\u001b[0;32m/usr/lib/python3.9/site-packages/numpy/lib/_datasource.py\u001b[0m in \u001b[0;36mopen\u001b[0;34m(path, mode, destpath, encoding, newline)\u001b[0m\n\u001b[1;32m    192\u001b[0m \u001b[0;34m\u001b[0m\u001b[0m\n\u001b[1;32m    193\u001b[0m     \u001b[0mds\u001b[0m \u001b[0;34m=\u001b[0m \u001b[0mDataSource\u001b[0m\u001b[0;34m(\u001b[0m\u001b[0mdestpath\u001b[0m\u001b[0;34m)\u001b[0m\u001b[0;34m\u001b[0m\u001b[0;34m\u001b[0m\u001b[0m\n\u001b[0;32m--> 194\u001b[0;31m     \u001b[0;32mreturn\u001b[0m \u001b[0mds\u001b[0m\u001b[0;34m.\u001b[0m\u001b[0mopen\u001b[0m\u001b[0;34m(\u001b[0m\u001b[0mpath\u001b[0m\u001b[0;34m,\u001b[0m \u001b[0mmode\u001b[0m\u001b[0;34m,\u001b[0m \u001b[0mencoding\u001b[0m\u001b[0;34m=\u001b[0m\u001b[0mencoding\u001b[0m\u001b[0;34m,\u001b[0m \u001b[0mnewline\u001b[0m\u001b[0;34m=\u001b[0m\u001b[0mnewline\u001b[0m\u001b[0;34m)\u001b[0m\u001b[0;34m\u001b[0m\u001b[0;34m\u001b[0m\u001b[0m\n\u001b[0m\u001b[1;32m    195\u001b[0m \u001b[0;34m\u001b[0m\u001b[0m\n\u001b[1;32m    196\u001b[0m \u001b[0;34m\u001b[0m\u001b[0m\n",
      "\u001b[0;32m/usr/lib/python3.9/site-packages/numpy/lib/_datasource.py\u001b[0m in \u001b[0;36mopen\u001b[0;34m(self, path, mode, encoding, newline)\u001b[0m\n\u001b[1;32m    529\u001b[0m                                       encoding=encoding, newline=newline)\n\u001b[1;32m    530\u001b[0m         \u001b[0;32melse\u001b[0m\u001b[0;34m:\u001b[0m\u001b[0;34m\u001b[0m\u001b[0;34m\u001b[0m\u001b[0m\n\u001b[0;32m--> 531\u001b[0;31m             \u001b[0;32mraise\u001b[0m \u001b[0mIOError\u001b[0m\u001b[0;34m(\u001b[0m\u001b[0;34m\"%s not found.\"\u001b[0m \u001b[0;34m%\u001b[0m \u001b[0mpath\u001b[0m\u001b[0;34m)\u001b[0m\u001b[0;34m\u001b[0m\u001b[0;34m\u001b[0m\u001b[0m\n\u001b[0m\u001b[1;32m    532\u001b[0m \u001b[0;34m\u001b[0m\u001b[0m\n\u001b[1;32m    533\u001b[0m \u001b[0;34m\u001b[0m\u001b[0m\n",
      "\u001b[0;31mOSError\u001b[0m: ../PKL/ZprimeVariableCone_m/wrongscalingJet/X_train_scaled.csv not found."
     ]
    }
   ],
   "source": [
    "#X_train, X_train_scaled, X_test, X_test_scaled, y_train, y_train_cat, y_test, y_test_cat=dp_f.retrieve_dataset(path)"
   ]
  },
  {
   "cell_type": "code",
   "execution_count": 23,
   "metadata": {},
   "outputs": [],
   "source": [
    "X_train_scaled=np.genfromtxt(path+\"X_train.csv\",delimiter=',')\n",
    "X_test_scaled=np.genfromtxt(path+\"X_test.csv\",delimiter=',')\n",
    "y_train=np.genfromtxt(path+\"y_train.csv\",delimiter=',')\n",
    "y_train_cat=np.genfromtxt(path+\"y_train_cat.csv\",delimiter=',')\n",
    "y_test=np.genfromtxt(path+\"y_test.csv\",delimiter=',')\n",
    "y_test_cat=np.genfromtxt(path+\"y_test_cat.csv\",delimiter=',')"
   ]
  },
  {
   "cell_type": "code",
   "execution_count": 24,
   "metadata": {},
   "outputs": [],
   "source": [
    "n_c=32\n",
    "device='gpu'\n",
    "\n",
    "if device=='gpu':\n",
    "    with tf.device(\"/gpu:0\"):\n",
    "        '''\n",
    "        NN = models.Sequential()\n",
    "#        NN.add(layers.Dense(3*n_c, activation=tf.nn.relu))\n",
    "        NN.add(layers.Dense(64*n_c, activation=tf.nn.relu))\n",
    "        NN.add(layers.Dense(64*n_c, activation=tf.nn.relu))\n",
    "        NN.add(layers.Dense(32*n_c, activation=tf.nn.sigmoid))\n",
    "        NN.add(layers.Dense(32*n_c, activation=tf.nn.relu))\n",
    "        NN.add(layers.Dense(32*n_c, activation=tf.nn.relu))\n",
    "        NN.add(layers.Dense(16*n_c, activation=tf.nn.sigmoid))\n",
    "        NN.add(layers.Dense(16*n_c, activation=tf.nn.relu))\n",
    "        NN.add(layers.Dense(16*n_c, activation=tf.nn.relu))\n",
    "        NN.add(layers.Dense(8*n_c, activation=tf.nn.sigmoid))\n",
    "        NN.add(layers.Dense(8*n_c, activation=tf.nn.relu))\n",
    "        NN.add(layers.Dense(4*n_c, activation=tf.nn.relu))\n",
    "        NN.add(layers.Dense(2*n_c, activation=tf.nn.sigmoid))\n",
    "        NN.add(layers.Dense(2, activation=tf.nn.softmax, name='preds'))\n",
    "        '''\n",
    "        NN = models.Sequential()\n",
    "        NN.add(layers.Dense(2*n_c, activation='relu'))\n",
    "        NN.add(layers.Dense(2*n_c, activation='relu'))\n",
    "        #NN.add(layers.Dense(n_c, activation='relu'))\n",
    "        NN.add(layers.Dense(n_c, activation=tf.nn.sigmoid))\n",
    "        NN.add(layers.Dense(2, activation='softmax', name='preds'))\n",
    "        NN.compile(optimizer='adam',\n",
    "                        loss='categorical_crossentropy',\n",
    "#                        loss='binary_crossentropy',\n",
    "                        metrics = ['accuracy'])\n",
    "\n",
    "else:\n",
    "    with tf.device(\"/cpu:0\"):\n",
    "        NN = models.Sequential()\n",
    "        NN.add(layers.Dense(2*n_c, activation='relu'))\n",
    "        NN.add(layers.Dense(2*n_c, activation='relu'))\n",
    "        #NN.add(layers.Dense(n_c, activation='relu'))\n",
    "        NN.add(layers.Dense(2, activation='softmax', name='preds'))\n",
    "\n",
    "        NN.compile(optimizer='adam',\n",
    "                        loss='categorical_crossentropy',\n",
    "                        #metrics = ['accuracy'])\n",
    "                        metrics = ['CategoricalCrossentropy'])\n"
   ]
  },
  {
   "cell_type": "code",
   "execution_count": 25,
   "metadata": {},
   "outputs": [
    {
     "name": "stderr",
     "output_type": "stream",
     "text": [
      "/home/salomongpu/.local/lib/python3.9/site-packages/sklearn/utils/validation.py:70: FutureWarning: Pass classes=[0. 1.], y=[0. 1. 0. ... 0. 0. 0.] as keyword args. From version 1.0 (renaming of 0.25) passing these as positional arguments will result in an error\n",
      "  warnings.warn(f\"Pass {args_msg} as keyword args. From version \"\n"
     ]
    },
    {
     "data": {
      "text/plain": [
       "{0.0: 0.7320607303152878, 1.0: 1.5773042024832855}"
      ]
     },
     "execution_count": 25,
     "metadata": {},
     "output_type": "execute_result"
    }
   ],
   "source": [
    "#class_weights = class_weight.compute_class_weight('balanced',\n",
    "#                                                 np.unique(y_train),\n",
    "#                                                 y_train)\n",
    "\n",
    "from sklearn.utils import class_weight\n",
    "class_weights = dict(zip(np.unique(y_train), class_weight.compute_class_weight('balanced', np.unique(y_train), \n",
    "                y_train))) \n",
    "\n",
    "class_weights"
   ]
  },
  {
   "cell_type": "code",
   "execution_count": 26,
   "metadata": {},
   "outputs": [],
   "source": [
    "#NN_model_name='NN_base_rew'\n",
    "#NN=tf.keras.models.load_model(path+'models/'+NN_model_name)"
   ]
  },
  {
   "cell_type": "code",
   "execution_count": 27,
   "metadata": {
    "scrolled": false
   },
   "outputs": [
    {
     "name": "stdout",
     "output_type": "stream",
     "text": [
      "Epoch 1/10\n",
      "6606/6606 [==============================] - 29s 4ms/step - loss: 0.6610 - accuracy: 0.5886\n",
      "Epoch 2/10\n",
      "6606/6606 [==============================] - 31s 5ms/step - loss: 0.5949 - accuracy: 0.6716\n",
      "Epoch 3/10\n",
      "6606/6606 [==============================] - 29s 4ms/step - loss: 0.5864 - accuracy: 0.6783\n",
      "Epoch 4/10\n",
      "6606/6606 [==============================] - 29s 4ms/step - loss: 0.5834 - accuracy: 0.6808\n",
      "Epoch 5/10\n",
      "6606/6606 [==============================] - 28s 4ms/step - loss: 0.5651 - accuracy: 0.6972\n",
      "Epoch 6/10\n",
      "6606/6606 [==============================] - 33s 5ms/step - loss: 0.5375 - accuracy: 0.7107\n",
      "Epoch 7/10\n",
      "6606/6606 [==============================] - 25s 4ms/step - loss: 0.5094 - accuracy: 0.7303\n",
      "Epoch 8/10\n",
      "6606/6606 [==============================] - 26s 4ms/step - loss: 0.4947 - accuracy: 0.7398\n",
      "Epoch 9/10\n",
      "6606/6606 [==============================] - 30s 5ms/step - loss: 0.4939 - accuracy: 0.7326\n",
      "Epoch 10/10\n",
      "6606/6606 [==============================] - 31s 5ms/step - loss: 0.4783 - accuracy: 0.7482\n",
      "accuracy: 0.7427430748939514 loss: 0.48245465755462646\n"
     ]
    },
    {
     "data": {
      "image/png": "[encoded data removed]",
      "text/plain": [
       "<Figure size 432x288 with 2 Axes>"
      ]
     },
     "metadata": {
      "needs_background": "light"
     },
     "output_type": "display_data"
    }
   ],
   "source": [
    "history=NN.fit(X_train_scaled, y_train_cat, class_weight=class_weights, batch_size=8, epochs=10, verbose=1)\n",
    "\n",
    "fig = plt.figure()\n",
    "plt.subplot(2,1,1)\n",
    "plt.plot(history.history['accuracy'])\n",
    "plt.title('model accuracy')\n",
    "plt.ylabel('accuracy')\n",
    "plt.xlabel('epoch')\n",
    "#plt.xscale('log')\n",
    "plt.subplot(2,1,2)\n",
    "plt.plot(history.history['loss'])\n",
    "plt.title('model loss')\n",
    "plt.ylabel('loss')\n",
    "plt.xlabel('epoch')\n",
    "#plt.xscale('log')\n",
    "\n",
    "plt.tight_layout()\n",
    "fig\n",
    "\n",
    "print('accuracy:', history.history['accuracy'][-1], 'loss:', history.history['loss'][-1])\n",
    "\n",
    "#print('Evaluation on training set')\n",
    "#NN.evaluate(X_train_scaled, y_train_cat)\n",
    "#print('Evaluation on test set')\n",
    "#NN.evaluate(X_test_scaled, y_test_cat)\n"
   ]
  },
  {
   "cell_type": "code",
   "execution_count": 28,
   "metadata": {
    "scrolled": false
   },
   "outputs": [
    {
     "name": "stdout",
     "output_type": "stream",
     "text": [
      "Epoch 1/40\n",
      "13212/13212 [==============================] - 58s 4ms/step - loss: 0.4978 - accuracy: 0.7347\n",
      "Epoch 2/40\n",
      "13212/13212 [==============================] - 57s 4ms/step - loss: 0.4913 - accuracy: 0.7346\n",
      "Epoch 3/40\n",
      "13212/13212 [==============================] - 57s 4ms/step - loss: 0.4878 - accuracy: 0.7382\n",
      "Epoch 4/40\n",
      "13212/13212 [==============================] - 65s 5ms/step - loss: 0.4828 - accuracy: 0.7409\n",
      "Epoch 5/40\n",
      "13212/13212 [==============================] - 62s 5ms/step - loss: 0.4764 - accuracy: 0.7460\n",
      "Epoch 6/40\n",
      "13212/13212 [==============================] - 59s 4ms/step - loss: 0.4673 - accuracy: 0.7540\n",
      "Epoch 7/40\n",
      "13212/13212 [==============================] - 56s 4ms/step - loss: 0.4546 - accuracy: 0.7609\n",
      "Epoch 8/40\n",
      "13212/13212 [==============================] - 58s 4ms/step - loss: 0.4410 - accuracy: 0.7698\n",
      "Epoch 9/40\n",
      "13212/13212 [==============================] - 50s 4ms/step - loss: 0.4280 - accuracy: 0.7781\n",
      "Epoch 10/40\n",
      "13212/13212 [==============================] - 57s 4ms/step - loss: 0.4233 - accuracy: 0.7809\n",
      "Epoch 11/40\n",
      "13212/13212 [==============================] - 60s 5ms/step - loss: 0.4126 - accuracy: 0.7876\n",
      "Epoch 12/40\n",
      "13212/13212 [==============================] - 61s 5ms/step - loss: 0.4080 - accuracy: 0.7883\n",
      "Epoch 13/40\n",
      "13212/13212 [==============================] - 58s 4ms/step - loss: 0.4038 - accuracy: 0.7972\n",
      "Epoch 14/40\n",
      "13212/13212 [==============================] - 55s 4ms/step - loss: 0.3963 - accuracy: 0.8015\n",
      "Epoch 15/40\n",
      "13212/13212 [==============================] - 55s 4ms/step - loss: 0.3905 - accuracy: 0.8044\n",
      "Epoch 16/40\n",
      "13212/13212 [==============================] - 53s 4ms/step - loss: 0.3840 - accuracy: 0.8118\n",
      "Epoch 17/40\n",
      "13212/13212 [==============================] - 53s 4ms/step - loss: 0.3772 - accuracy: 0.8166\n",
      "Epoch 18/40\n",
      "13212/13212 [==============================] - 57s 4ms/step - loss: 0.3739 - accuracy: 0.8195\n",
      "Epoch 19/40\n",
      "13212/13212 [==============================] - 59s 4ms/step - loss: 0.3665 - accuracy: 0.8216\n",
      "Epoch 20/40\n",
      "13212/13212 [==============================] - 63s 5ms/step - loss: 0.3568 - accuracy: 0.8273\n",
      "Epoch 21/40\n",
      "13212/13212 [==============================] - 60s 5ms/step - loss: 0.3504 - accuracy: 0.8324\n",
      "Epoch 22/40\n",
      "13212/13212 [==============================] - 65s 5ms/step - loss: 0.3417 - accuracy: 0.8363\n",
      "Epoch 23/40\n",
      "13212/13212 [==============================] - 55s 4ms/step - loss: 0.3333 - accuracy: 0.8416\n",
      "Epoch 24/40\n",
      "13212/13212 [==============================] - 58s 4ms/step - loss: 0.3227 - accuracy: 0.8489\n",
      "Epoch 25/40\n",
      "13212/13212 [==============================] - 59s 5ms/step - loss: 0.3135 - accuracy: 0.8535\n",
      "Epoch 26/40\n",
      "13212/13212 [==============================] - 58s 4ms/step - loss: 0.3037 - accuracy: 0.8603\n",
      "Epoch 27/40\n",
      "13212/13212 [==============================] - 49s 4ms/step - loss: 0.2984 - accuracy: 0.8609\n",
      "Epoch 28/40\n",
      "13212/13212 [==============================] - 52s 4ms/step - loss: 0.2885 - accuracy: 0.8684\n",
      "Epoch 29/40\n",
      "13212/13212 [==============================] - 57s 4ms/step - loss: 0.2857 - accuracy: 0.8699\n",
      "Epoch 30/40\n",
      "13212/13212 [==============================] - 55s 4ms/step - loss: 0.2817 - accuracy: 0.8738\n",
      "Epoch 31/40\n",
      "13212/13212 [==============================] - 64s 5ms/step - loss: 0.2764 - accuracy: 0.8741\n",
      "Epoch 32/40\n",
      "13212/13212 [==============================] - 62s 5ms/step - loss: 0.2715 - accuracy: 0.8788\n",
      "Epoch 33/40\n",
      "13212/13212 [==============================] - 58s 4ms/step - loss: 0.2682 - accuracy: 0.8815\n",
      "Epoch 34/40\n",
      "13212/13212 [==============================] - 57s 4ms/step - loss: 0.2657 - accuracy: 0.8837\n",
      "Epoch 35/40\n",
      "13212/13212 [==============================] - 58s 4ms/step - loss: 0.2607 - accuracy: 0.8840\n",
      "Epoch 36/40\n",
      "13212/13212 [==============================] - 60s 5ms/step - loss: 0.2526 - accuracy: 0.8891\n",
      "Epoch 37/40\n",
      "13212/13212 [==============================] - 59s 4ms/step - loss: 0.2533 - accuracy: 0.8900\n",
      "Epoch 38/40\n",
      "13212/13212 [==============================] - 63s 5ms/step - loss: 0.2458 - accuracy: 0.8903\n",
      "Epoch 39/40\n",
      "13212/13212 [==============================] - 65s 5ms/step - loss: 0.2472 - accuracy: 0.8895\n",
      "Epoch 40/40\n",
      "13212/13212 [==============================] - 61s 5ms/step - loss: 0.2402 - accuracy: 0.8941\n",
      "accuracy: 0.8940695524215698 loss: 0.24017435312271118\n"
     ]
    },
    {
     "data": {
      "image/png": "[encoded data removed]",
      "text/plain": [
       "<Figure size 432x288 with 2 Axes>"
      ]
     },
     "metadata": {
      "needs_background": "light"
     },
     "output_type": "display_data"
    }
   ],
   "source": [
    "history=NN.fit(X_train_scaled, y_train_cat, class_weight=class_weights, batch_size=4, epochs=40, verbose=1)\n",
    "\n",
    "fig = plt.figure()\n",
    "plt.subplot(2,1,1)\n",
    "plt.plot(history.history['accuracy'])\n",
    "plt.title('model accuracy')\n",
    "plt.ylabel('accuracy')\n",
    "plt.xlabel('epoch')\n",
    "#plt.xscale('log')\n",
    "plt.subplot(2,1,2)\n",
    "plt.plot(history.history['loss'])\n",
    "plt.title('model loss')\n",
    "plt.ylabel('loss')\n",
    "plt.xlabel('epoch')\n",
    "#plt.xscale('log')\n",
    "\n",
    "plt.tight_layout()\n",
    "fig\n",
    "\n",
    "print('accuracy:', history.history['accuracy'][-1], 'loss:', history.history['loss'][-1])\n",
    "\n",
    "#print('Evaluation on training set')\n",
    "#NN.evaluate(X_train_scaled, y_train_cat)\n",
    "#print('Evaluation on test set')\n",
    "#NN.evaluate(X_test_scaled, y_test_cat)\n"
   ]
  },
  {
   "cell_type": "code",
   "execution_count": 29,
   "metadata": {},
   "outputs": [
    {
     "name": "stdout",
     "output_type": "stream",
     "text": [
      "Evaluation on test set 0\n",
      "283/283 [==============================] - 0s 994us/step - loss: 0.2974 - accuracy: 0.8619\n",
      "Evaluation on test set 1\n",
      "131/131 [==============================] - 0s 3ms/step - loss: 0.4058 - accuracy: 0.8034\n"
     ]
    },
    {
     "data": {
      "text/plain": [
       "[0.4058116376399994, 0.8034003973007202]"
      ]
     },
     "execution_count": 29,
     "metadata": {},
     "output_type": "execute_result"
    }
   ],
   "source": [
    "print('Evaluation on test set 0')\n",
    "NN.evaluate(X_test_scaled[y_test==0], y_test_cat[y_test==0])\n",
    "print('Evaluation on test set 1')\n",
    "NN.evaluate(X_test_scaled[y_test==1], y_test_cat[y_test==1])"
   ]
  },
  {
   "cell_type": "code",
   "execution_count": 30,
   "metadata": {},
   "outputs": [
    {
     "name": "stdout",
     "output_type": "stream",
     "text": [
      "INFO:tensorflow:Assets written to: ../PKL/ZprimeVariableCone_m/wrongscalingJet/models/NN_base/assets\n"
     ]
    },
    {
     "name": "stderr",
     "output_type": "stream",
     "text": [
      "INFO:tensorflow:Assets written to: ../PKL/ZprimeVariableCone_m/wrongscalingJet/models/NN_base/assets\n"
     ]
    }
   ],
   "source": [
    "model_name='NN_base'\n",
    "NN.save(path+'models/'+model_name+'/')"
   ]
  },
  {
   "cell_type": "code",
   "execution_count": null,
   "metadata": {},
   "outputs": [],
   "source": []
  }
 ],
 "metadata": {
  "kernelspec": {
   "display_name": "Python 3",
   "language": "python",
   "name": "python3"
  },
  "language_info": {
   "codemirror_mode": {
    "name": "ipython",
    "version": 3
   },
   "file_extension": ".py",
   "mimetype": "text/x-python",
   "name": "python",
   "nbconvert_exporter": "python",
   "pygments_lexer": "ipython3",
   "version": "3.9.5"
  }
 },
 "nbformat": 4,
 "nbformat_minor": 4
}
